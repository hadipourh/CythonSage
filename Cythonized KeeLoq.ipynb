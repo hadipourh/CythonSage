{
 "cells": [
  {
   "cell_type": "markdown",
   "metadata": {},
   "source": [
    "in the name of $ALLAH$"
   ]
  },
  {
   "cell_type": "code",
   "execution_count": 1,
   "metadata": {},
   "outputs": [],
   "source": [
    "from sage.sat.boolean_polynomials import solve as solve_sat\n",
    "from sage.rings.polynomial.multi_polynomial_sequence import PolynomialSequence\n",
    "import re\n",
    "import pdb"
   ]
  },
  {
   "cell_type": "code",
   "execution_count": 2,
   "metadata": {},
   "outputs": [],
   "source": [
    "# It’s possible to compile code in a notebook cell with Cython. For this you need to load the Cython magic:\n",
    "# Then you can define a Cython cell by writing %%cython on top of it. Like this:\n",
    "# %%cython\n",
    "# cython codes\n",
    "%load_ext cython"
   ]
  },
  {
   "cell_type": "code",
   "execution_count": 9,
   "metadata": {
    "scrolled": true
   },
   "outputs": [],
   "source": [
    "%%cython -I ./\n",
    "\n",
    "from libc.stdint cimport uint32_t, uint64_t\n",
    "from libc.stdlib cimport malloc, calloc, free\n",
    "    \n",
    "cdef extern from \"keeloq.c\":\n",
    "    void keeloq_encrypt(uint64_t *key, uint32_t *plaintext, uint32_t *ciphertext, int nrounds)\n",
    "    void keeloq_decrypt(uint64_t *key, uint32_t *plaintext, uint32_t *ciphertext, int nrounds)\n",
    "    \n",
    "cdef extern from \"polygen.c\":\n",
    "    ctypedef struct polynomial:\n",
    "        char poly[300]\n",
    "    uint64_t calculate_num_of_equations(int r, int number_of_plains)\n",
    "    void polynomials(uint32_t *plains, uint32_t *ciphers, polynomial *equations, int r, int number_of_plains)\n",
    "\n",
    "def keeloq_enc(k, p, r):\n",
    "    cdef uint64_t k1\n",
    "    cdef uint32_t p1\n",
    "    cdef uint32_t c1\n",
    "    k1, p1 = k, p\n",
    "    keeloq_encrypt(&k1, &p1, &c1, r)\n",
    "    return c1\n",
    "\n",
    "def keeloq_dec(k, c, r):\n",
    "    cdef:\n",
    "        uint64_t k1\n",
    "        uint32_t p1\n",
    "        uint32_t c1\n",
    "    k1, c1 = k, c\n",
    "    keeloq_decrypt(&k1, &p1, &c1, r)\n",
    "    return p1\n",
    "    \n",
    "def keeloq_polys(ptexts, ctexts, r):\n",
    "    cdef:\n",
    "        int number_of_plaintexts = len(ptexts)\n",
    "        uint64_t neqs        \n",
    "        uint32_t *plains = <uint32_t *> calloc(number_of_plaintexts, sizeof(uint32_t))\n",
    "        uint32_t *ciphers = <uint32_t *> calloc(number_of_plaintexts, sizeof(uint32_t))\n",
    "        polynomial *equations\n",
    "        \n",
    "    for i in range(number_of_plaintexts):\n",
    "        plains[i] = ptexts[i]\n",
    "        ciphers[i] = ctexts[i]\n",
    "    neqs = calculate_num_of_equations(r, number_of_plaintexts)\n",
    "    equations = <polynomial *>malloc(neqs * sizeof(polynomial))\n",
    "    polynomials(plains, ciphers, equations, r, number_of_plaintexts)\n",
    "    free(plains)\n",
    "    free(ciphers)\n",
    "    st = []\n",
    "    for i in range(neqs):\n",
    "        st.append(equations[i].poly)\n",
    "    free(equations)\n",
    "    return st"
   ]
  },
  {
   "cell_type": "code",
   "execution_count": 10,
   "metadata": {},
   "outputs": [
    {
     "data": {
      "text/plain": [
       "'0xe44f4cdf'"
      ]
     },
     "execution_count": 10,
     "metadata": {},
     "output_type": "execute_result"
    }
   ],
   "source": [
    "k = 0x5cec6701b79fd949\n",
    "p = 0xf741e2db\n",
    "r = 528\n",
    "c = keeloq_enc(k, p, r)\n",
    "hex(c)"
   ]
  },
  {
   "cell_type": "code",
   "execution_count": 12,
   "metadata": {},
   "outputs": [],
   "source": [
    "@parallel\n",
    "def paralle_encrypt(k, p, r):\n",
    "    return keeloq_enc(k, p, r)"
   ]
  },
  {
   "cell_type": "code",
   "execution_count": 13,
   "metadata": {},
   "outputs": [],
   "source": [
    "def serial_encrypt(k, p, r):\n",
    "    ciphers = []\n",
    "    for p in plains:\n",
    "        ciphers.append(keeloq_enc(k, p, r))\n",
    "        \n",
    "    return ciphers"
   ]
  },
  {
   "cell_type": "code",
   "execution_count": 14,
   "metadata": {},
   "outputs": [],
   "source": [
    "r = 528\n",
    "k = 0x5cec6701b79fd949\n",
    "number_of_plains = 2^3\n",
    "plains = [randint(0, 2^32 - 1) for _ in range(number_of_plains)]\n",
    "inputs = [(k, plains[i], r) for i in range(len(plains))]"
   ]
  },
  {
   "cell_type": "code",
   "execution_count": 17,
   "metadata": {},
   "outputs": [
    {
     "name": "stdout",
     "output_type": "stream",
     "text": [
      "CPU times: user 53 µs, sys: 7 µs, total: 60 µs\n",
      "Wall time: 57 µs\n"
     ]
    }
   ],
   "source": [
    "%time ciphers = paralle_encrypt(inputs)"
   ]
  },
  {
   "cell_type": "code",
   "execution_count": 18,
   "metadata": {},
   "outputs": [
    {
     "name": "stdout",
     "output_type": "stream",
     "text": [
      "CPU times: user 53 µs, sys: 8 µs, total: 61 µs\n",
      "Wall time: 62.9 µs\n"
     ]
    },
    {
     "data": {
      "text/plain": [
       "[3965727524,\n",
       " 2232568784,\n",
       " 2842232833,\n",
       " 1742918013,\n",
       " 2437120505,\n",
       " 288824108,\n",
       " 795992873,\n",
       " 779108897]"
      ]
     },
     "execution_count": 18,
     "metadata": {},
     "output_type": "execute_result"
    }
   ],
   "source": [
    "%time serial_encrypt(k, plains, r)"
   ]
  },
  {
   "cell_type": "code",
   "execution_count": 19,
   "metadata": {},
   "outputs": [
    {
     "name": "stdout",
     "output_type": "stream",
     "text": [
      "CPU times: user 3.45 ms, sys: 0 ns, total: 3.45 ms\n",
      "Wall time: 3.45 ms\n",
      "CPU times: user 10 s, sys: 0 ns, total: 10 s\n",
      "Wall time: 10 s\n"
     ]
    }
   ],
   "source": [
    "k = 0x5cec6701b79fd949\n",
    "r = 128\n",
    "number_of_plains = 2\n",
    "plains = [randint(0, 2^32 - 1) for _ in range(number_of_plains)]\n",
    "ciphers = [0]*number_of_plains\n",
    "for i in range(number_of_plains):\n",
    "    ciphers[i] = keeloq_enc(k, plains[i], r)\n",
    "%time temp = keeloq_polys(plains, ciphers, r)\n",
    "vrs = []\n",
    "for f in temp:\n",
    "    terms = re.split(' \\+ |\\*', f)\n",
    "    for v in terms:\n",
    "        if (not v.isdigit()):\n",
    "            vrs.append(v)\n",
    "vrs = list(set(vrs))\n",
    "R = BooleanPolynomialRing(len(vrs), vrs)\n",
    "%time ps = map(R, temp)\n",
    "ps = PolynomialSequence(ps)"
   ]
  },
  {
   "cell_type": "code",
   "execution_count": 20,
   "metadata": {},
   "outputs": [
    {
     "data": {
      "text/plain": [
       "Polynomial Sequence with 896 Polynomials in 896 Variables"
      ]
     },
     "execution_count": 20,
     "metadata": {},
     "output_type": "execute_result"
    }
   ],
   "source": [
    "ps"
   ]
  },
  {
   "cell_type": "code",
   "execution_count": null,
   "metadata": {},
   "outputs": [],
   "source": [
    "%time sls = solve_sat(ps, n = infinity, s_verbosity = 4)\n",
    "#print(sls)\n",
    "print(\"number of solutions : %d\" % len(sls))"
   ]
  },
  {
   "cell_type": "code",
   "execution_count": 349,
   "metadata": {
    "collapsed": true
   },
   "outputs": [],
   "source": [
    "def guss_keys(ps, ng, original_key):\n",
    "    original_key = bin(original_key)[2:].zfill(64)\n",
    "    original_key = list(original_key)\n",
    "    original_key.reverse()\n",
    "    original_key = map(R, original_key)\n",
    "    gps = []\n",
    "    for p in ps:\n",
    "        gps.append(p)\n",
    "    for i in range(ng):\n",
    "        temp = \"k_%d + %d\" % (i, original_key[i])\n",
    "        temp = R(temp)\n",
    "        gps.append(temp)\n",
    "    return PolynomialSequence(gps)"
   ]
  },
  {
   "cell_type": "code",
   "execution_count": 347,
   "metadata": {},
   "outputs": [
    {
     "name": "stdout",
     "output_type": "stream",
     "text": [
      "Polynomial Sequence with 896 Polynomials in 896 Variables\n",
      "Polynomial Sequence with 926 Polynomials in 896 Variables\n"
     ]
    }
   ],
   "source": [
    "k = 0x5cec6701b79fd949\n",
    "gps = guss_keys(ps, 30, k)\n",
    "print(ps)\n",
    "print(gps)"
   ]
  },
  {
   "cell_type": "code",
   "execution_count": 348,
   "metadata": {},
   "outputs": [
    {
     "name": "stdout",
     "output_type": "stream",
     "text": [
      "CPU times: user 8min 42s, sys: 128 ms, total: 8min 42s\n",
      "Wall time: 8min 42s\n",
      "number of solutions : 1\n"
     ]
    }
   ],
   "source": [
    "%time sls = solve_sat(gps, n = infinity, s_verbosity = 4)\n",
    "#print(sls)\n",
    "print(\"number of solutions : %d\" % len(sls))"
   ]
  },
  {
   "cell_type": "code",
   "execution_count": 303,
   "metadata": {},
   "outputs": [],
   "source": [
    "def check_correctness(sls, original_key):\n",
    "    original_key = bin(original_key)[2:].zfill(64)\n",
    "    original_key = list(original_key)\n",
    "    original_key.reverse()\n",
    "    for n in range(0, len(sls)):\n",
    "        matching_flag = True\n",
    "        key_sol = dict()\n",
    "        kindex = []\n",
    "        for i in range(64):\n",
    "            kname = 'k_%d' % i\n",
    "            if kname in R.variable_names():\n",
    "                kname = R(kname)\n",
    "                kval = sls[n].get(kname)\n",
    "                if kval != None:\n",
    "                    kindex.append(i)\n",
    "                    key_sol[kname] = kval        \n",
    "        for i in kindex:\n",
    "            if original_key[i] != str(key_sol[R(\"k_%d\" % i)]):\n",
    "                matching_flag = False\n",
    "                break\n",
    "        #pdb.set_trace()\n",
    "        if matching_flag == True:\n",
    "            print(\"C0ngratulati0n! sls[%d] matches with the original key :)\" % n)\n",
    "            print(\"Number of recoverd key bits: %d\" % len(list(key_sol)))\n",
    "            print(key_sol)\n",
    "            return\n",
    "    print(\"There is no solution matching with the original key :(\")"
   ]
  },
  {
   "cell_type": "code",
   "execution_count": 304,
   "metadata": {},
   "outputs": [
    {
     "name": "stdout",
     "output_type": "stream",
     "text": [
      "C0ngratulati0n! sls[0] matches with the original key :)\n",
      "Number of recoverd key bits: 64\n",
      "{k_39: 0, k_31: 1, k_9: 0, k_57: 0, k_0: 1, k_35: 0, k_33: 0, k_6: 1, k_53: 1, k_37: 0, k_2: 0, k_19: 1, k_4: 0, k_10: 0, k_12: 1, k_14: 1, k_16: 1, k_25: 1, k_47: 0, k_29: 1, k_49: 0, k_43: 0, k_21: 0, k_45: 1, k_27: 0, k_63: 0, k_59: 1, k_61: 0, k_58: 1, k_56: 0, k_23: 1, k_41: 1, k_15: 1, k_51: 1, k_32: 1, k_30: 0, k_36: 0, k_1: 0, k_34: 0, k_8: 1, k_7: 0, k_52: 0, k_3: 1, k_38: 0, k_5: 0, k_18: 1, k_13: 0, k_17: 1, k_11: 1, k_46: 1, k_26: 1, k_48: 0, k_24: 1, k_22: 0, k_42: 1, k_20: 1, k_44: 0, k_60: 1, k_28: 1, k_62: 1, k_50: 1, k_54: 1, k_40: 1, k_55: 1}\n"
     ]
    }
   ],
   "source": [
    "check_correctness(sls, k)"
   ]
  }
 ],
 "metadata": {
  "kernelspec": {
   "display_name": "SageMath 8.2",
   "language": "",
   "name": "sagemath"
  },
  "language_info": {
   "codemirror_mode": {
    "name": "ipython",
    "version": 2
   },
   "file_extension": ".py",
   "mimetype": "text/x-python",
   "name": "python",
   "nbconvert_exporter": "python",
   "pygments_lexer": "ipython2",
   "version": "2.7.14"
  }
 },
 "nbformat": 4,
 "nbformat_minor": 1
}
